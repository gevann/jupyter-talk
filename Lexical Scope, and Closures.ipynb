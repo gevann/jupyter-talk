{
 "cells": [
  {
   "cell_type": "markdown",
   "metadata": {},
   "source": [
    "# Lexical Scope and Closure: The Reckoning\n",
    "---\n",
    "\n",
    "## Lexical Scope\n",
    "---\n",
    "\n",
    ">\"Lexical scope?\"\n",
    "\n",
    "_Lexical scope_ is all about name resolution in programs, essentially answering \"when do I bother checking on what `foo` actually is?\"\n",
    "\n",
    "It's closely related to _closures_, so we will look at both, but first, lets take  more specific look at what lexical scope means:\n",
    "\n",
    "**Lexical**\n",
    "/ˈleksək(ə)l/\n",
    "\n",
    "_adjective_\n",
    "\n",
    "1. Relating to the words or vocabulary of a language.    \n",
    "    1.1 Relating to or of the nature of lexicon or dictionary.\n",
    "    \n",
    "**Scope**\n",
    "/skōp/\n",
    "\n",
    "_noun_\n",
    "\n",
    "1. The extent of the area or subject matter that something deals with or to which it is relevant.\n",
    "\n",
    "Putting that together, lexical scope is a scope of resolving names to where they were written (_becuase it's lexical!_).\n",
    "\n",
    ">Wat?\n",
    "\n",
    "<img src=\"http://i0.kym-cdn.com/photos/images/newsfeed/000/173/580/Wat.jpg?1315930588\" />\n",
    "\n",
    "Example!"
   ]
  },
  {
   "cell_type": "code",
   "execution_count": null,
   "metadata": {
    "collapsed": false
   },
   "outputs": [],
   "source": [
    "i = 7\n",
    "[4, 6, 8].select { |x| i > x }"
   ]
  },
  {
   "cell_type": "markdown",
   "metadata": {},
   "source": [
    "So, above we see lexical scope in action. When `select` executes, it finds the variable `i`, which it needs to resolve, and it looks it up in the environment where the select was defined -- so `i` will be `7`. Coolio.\n",
    "\n",
    "Seems obvious, but there are languages which do not do this (they use _dynamic scope_), and without it you cannot use _closure_, which are super cool!\n",
    "\n",
    "\n",
    "# Closures\n",
    "---\n",
    "\n",
    "A closure is a 2-tuple (a pair) of `[vars, body]` where body is the `body` of the code to execute, and `vars` is the set of definitions of all of the **free variables** in that body _at the time the body was defined_. To give a contrast, what it specifically **is not** is a set of `vars` where the definitions are resolved to values _where the body is run_. \n",
    "\n",
    "But, what's a _free variable_?\n",
    "\n",
    "### Free Variable\n",
    "\n",
    ">In computer programming, the term free variable refers to variables used in a function that are neither local variables nor parameters of that function.\n",
    "\n",
    "So, in the function below only `u` is a free variable, since all others are either parameters (`a`, `b`, and `c`) or local (`d`)."
   ]
  },
  {
   "cell_type": "code",
   "execution_count": null,
   "metadata": {
    "collapsed": false
   },
   "outputs": [],
   "source": [
    "u = 4\n",
    "def free_variables(a, b, c)\n",
    "  d = a % b\n",
    "  d**a + (b - u)/c\n",
    "end"
   ]
  },
  {
   "cell_type": "code",
   "execution_count": null,
   "metadata": {
    "collapsed": false
   },
   "outputs": [],
   "source": [
    "free_variables(1, 2, 3)\n",
    "#doesn't work because `def` doesn't provide a closure, so ruby has no idea what to resolve\n",
    "# the free variables to."
   ]
  },
  {
   "cell_type": "markdown",
   "metadata": {},
   "source": [
    "Let's look at an example of where we aren't using a closure.<a id='another_cell'></a>"
   ]
  },
  {
   "cell_type": "code",
   "execution_count": null,
   "metadata": {
    "collapsed": false
   },
   "outputs": [],
   "source": [
    "a = \"Hello\"\n",
    "my_proc = Proc.new { puts a }\n",
    "my_proc.call\n",
    "a = \"Test\"\n",
    "my_proc.call"
   ]
  },
  {
   "cell_type": "markdown",
   "metadata": {},
   "source": [
    "**QUESTION**: why does the result of the second call to `my_proc` output \"Test\"?\n",
    "\n",
    "What's happening here is that the variable `a` is being resolved during execution, which means if we change it's value before running the proc we end up with the side-effect of changing the output of the proc, and nobody likes the confusion of a function returning something different with the same inputs (here none at all). It's difficult to reason about.\n",
    "\n",
    "Closures to the rescue! If we make use of lexical-scoping and ensure that the free variables are set to the values they had when the body was defined, then we don't end up with these same problems."
   ]
  },
  {
   "cell_type": "code",
   "execution_count": null,
   "metadata": {
    "collapsed": false
   },
   "outputs": [],
   "source": [
    "def gen\n",
    "  a = \"Hello\"\n",
    "  proc { puts a}\n",
    "end\n",
    "my_closed_proc = gen()\n",
    "my_closed_proc.call()\n",
    "a = \"Test\"\n",
    "my_closed_proc.call()"
   ]
  },
  {
   "cell_type": "markdown",
   "metadata": {},
   "source": [
    "Here we have a function `gen`, which returns a closure (a `proc` with bounded free vars). It doesn't matter what anybody else does to `a` anymore.\n",
    "\n",
    "We see that the calls to\n",
    "`my_closed_proc.call` both returned `'Hello'`, despite changing the value of `a` and specifically _unlike_ what happend in [`In [4]`](#another_cell). Let's look an an example of what you could do with this. \n",
    "\n",
    "Consider the class below, which can be used be build a cyclical, directed graph."
   ]
  },
  {
   "cell_type": "code",
   "execution_count": null,
   "metadata": {
    "collapsed": false
   },
   "outputs": [],
   "source": [
    "class GraphNode\n",
    "  attr_reader :next_node\n",
    "  attr_reader :value\n",
    "  \n",
    "  def initialize(value)\n",
    "    @value = value\n",
    "    @next_node = nil\n",
    "  end\n",
    "  \n",
    "  def inspect\n",
    "    \"<GraphNode, @value: #{@value}, @next_node: #{@next_node.value}>\"\n",
    "  end\n",
    "  \n",
    "  def to_s\n",
    "    \"<Node (#{@value}, #{@next_node.value})>\"\n",
    "  end\n",
    "  \n",
    "  def next_node=(node)\n",
    "    raise ArgumentError unless node.is_a? GraphNode\n",
    "    @next_node = node\n",
    "  end\n",
    "end"
   ]
  },
  {
   "cell_type": "markdown",
   "metadata": {},
   "source": [
    "Now we can use it to create a simple graph:"
   ]
  },
  {
   "cell_type": "code",
   "execution_count": null,
   "metadata": {
    "collapsed": false
   },
   "outputs": [],
   "source": [
    "nodes = (0...4).map{ |x| GraphNode.new(x)}\n",
    "nodes.each_with_index { |node, index|  node.next_node = nodes[(index+1)%4] }\n",
    "n0, n1, n2, n3  = nodes\n",
    "nodes.each do |node|\n",
    "  puts node\n",
    "end"
   ]
  },
  {
   "cell_type": "code",
   "execution_count": null,
   "metadata": {
    "collapsed": false
   },
   "outputs": [],
   "source": [
    "File.open('graph.png')"
   ]
  },
  {
   "cell_type": "markdown",
   "metadata": {},
   "source": [
    "Great, so now we have our class, our directed graph (above), and a cycle in the graph (if you follow each of the pointers from _node 0_ you eventually arrive back where you started).\n",
    "\n",
    "What we want now is to add to your class a way to start at _node 0_ and end up at _node 3_, without looping. This should work regardless of how deep the graph goes, and does not need to work for a graph where there are multiple paths heading out of one node (since our class only has one pointer).\n",
    "\n",
    "```ruby\n",
    "module Seek\n",
    "    def seek\n",
    "        # how would you do it?\n",
    "    end\n",
    "end\n",
    "```"
   ]
  },
  {
   "cell_type": "code",
   "execution_count": null,
   "metadata": {
    "collapsed": false
   },
   "outputs": [],
   "source": [
    "module Traverse\n",
    "  def traverse\n",
    "    original_id = self.object_id\n",
    "    rec_helper = lambda do |node|\n",
    "      if node.next_node && node.next_node.object_id != original_id\n",
    "        rec_helper.call(node.next_node)\n",
    "      else\n",
    "        node\n",
    "      end\n",
    "    end\n",
    "      rec_helper.call(self)\n",
    "  end\n",
    "end"
   ]
  },
  {
   "cell_type": "code",
   "execution_count": null,
   "metadata": {
    "collapsed": false
   },
   "outputs": [],
   "source": [
    "GraphNode.prepend(Traverse)"
   ]
  },
  {
   "cell_type": "code",
   "execution_count": null,
   "metadata": {
    "collapsed": false
   },
   "outputs": [],
   "source": [
    "n0.traverse == n3"
   ]
  }
 ],
 "metadata": {
  "kernelspec": {
   "display_name": "Ruby",
   "language": "ruby",
   "name": "iruby"
  },
  "language_info": {
   "file_extension": ".rb",
   "mimetype": "application/x-ruby",
   "name": "ruby",
   "version": "2.3.1"
  }
 },
 "nbformat": 4,
 "nbformat_minor": 2
}
