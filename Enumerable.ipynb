{
 "cells": [
  {
   "cell_type": "code",
   "execution_count": 1,
   "metadata": {
    "collapsed": false
   },
   "outputs": [
    {
     "data": {
      "text/plain": [
       "[[2, 4, 6, 8, 10], [1, 3, 5, 7, 9]]"
      ]
     },
     "execution_count": 1,
     "metadata": {},
     "output_type": "execute_result"
    }
   ],
   "source": [
    "evens, odds = (1..10).partition(&:even?)"
   ]
  },
  {
   "cell_type": "code",
   "execution_count": 2,
   "metadata": {
    "collapsed": false
   },
   "outputs": [
    {
     "data": {
      "text/plain": [
       "[[2, 1], [4, 3], [6, 5], [8, 7], [10, 9]]"
      ]
     },
     "execution_count": 2,
     "metadata": {},
     "output_type": "execute_result"
    }
   ],
   "source": [
    "matrix = evens.zip(odds)"
   ]
  },
  {
   "cell_type": "code",
   "execution_count": 3,
   "metadata": {
    "collapsed": false
   },
   "outputs": [
    {
     "data": {
      "text/plain": [
       "[[2, 4, 6, 8, 10], [1, 3, 5, 7, 9]]"
      ]
     },
     "execution_count": 3,
     "metadata": {},
     "output_type": "execute_result"
    }
   ],
   "source": [
    "columns = matrix.transpose"
   ]
  },
  {
   "cell_type": "code",
   "execution_count": 4,
   "metadata": {
    "collapsed": false
   },
   "outputs": [
    {
     "data": {
      "text/plain": [
       "[[2, 1], [4, 3], [6, 5], [8, 7], [10, 9]]"
      ]
     },
     "execution_count": 4,
     "metadata": {},
     "output_type": "execute_result"
    }
   ],
   "source": [
    "(1..10).partition(&:even?).transpose"
   ]
  },
  {
   "cell_type": "code",
   "execution_count": 5,
   "metadata": {
    "collapsed": false
   },
   "outputs": [
    {
     "name": "stderr",
     "output_type": "stream",
     "text": [
      "Ignoring mysql2-0.4.5 because its extensions are not built.  Try: gem pristine mysql2 --version 0.4.5\n",
      "Ignoring nokogiri-1.8.0 because its extensions are not built.  Try: gem pristine nokogiri --version 1.8.0\n",
      "Ignoring pg-0.18.4 because its extensions are not built.  Try: gem pristine pg --version 0.18.4\n",
      "Ignoring sqlite3-1.3.12 because its extensions are not built.  Try: gem pristine sqlite3 --version 1.3.12\n"
     ]
    },
    {
     "ename": "LoadError",
     "evalue": "cannot load such file -- sciruby",
     "output_type": "error",
     "traceback": [
      "\u001b[31mLoadError\u001b[0m: cannot load such file -- sciruby",
      "\u001b[37m/usr/lib/ruby/2.3.0/rubygems/core_ext/kernel_require.rb:55:in `require'\u001b[0m",
      "\u001b[37m/usr/lib/ruby/2.3.0/rubygems/core_ext/kernel_require.rb:55:in `require'\u001b[0m",
      "\u001b[37m(pry):5:in `<main>'\u001b[0m",
      "\u001b[37m/home/graeme/.gem/ruby/2.3.1/gems/pry-0.10.4/lib/pry/pry_instance.rb:355:in `eval'\u001b[0m",
      "\u001b[37m/home/graeme/.gem/ruby/2.3.1/gems/pry-0.10.4/lib/pry/pry_instance.rb:355:in `evaluate_ruby'\u001b[0m",
      "\u001b[37m/home/graeme/.gem/ruby/2.3.1/gems/pry-0.10.4/lib/pry/pry_instance.rb:323:in `handle_line'\u001b[0m",
      "\u001b[37m/home/graeme/.gem/ruby/2.3.1/gems/pry-0.10.4/lib/pry/pry_instance.rb:243:in `block (2 levels) in eval'\u001b[0m",
      "\u001b[37m/home/graeme/.gem/ruby/2.3.1/gems/pry-0.10.4/lib/pry/pry_instance.rb:242:in `catch'\u001b[0m",
      "\u001b[37m/home/graeme/.gem/ruby/2.3.1/gems/pry-0.10.4/lib/pry/pry_instance.rb:242:in `block in eval'\u001b[0m",
      "\u001b[37m/home/graeme/.gem/ruby/2.3.1/gems/pry-0.10.4/lib/pry/pry_instance.rb:241:in `catch'\u001b[0m",
      "\u001b[37m/home/graeme/.gem/ruby/2.3.1/gems/pry-0.10.4/lib/pry/pry_instance.rb:241:in `eval'\u001b[0m",
      "\u001b[37m/usr/lib/ruby/vendor_ruby/iruby/backend.rb:65:in `eval'\u001b[0m",
      "\u001b[37m/usr/lib/ruby/vendor_ruby/iruby/backend.rb:12:in `eval'\u001b[0m",
      "\u001b[37m/usr/lib/ruby/vendor_ruby/iruby/kernel.rb:87:in `execute_request'\u001b[0m",
      "\u001b[37m/usr/lib/ruby/vendor_ruby/iruby/kernel.rb:47:in `dispatch'\u001b[0m",
      "\u001b[37m/usr/lib/ruby/vendor_ruby/iruby/kernel.rb:37:in `run'\u001b[0m",
      "\u001b[37m/usr/lib/ruby/vendor_ruby/iruby/command.rb:70:in `run_kernel'\u001b[0m",
      "\u001b[37m/usr/lib/ruby/vendor_ruby/iruby/command.rb:34:in `run'\u001b[0m",
      "\u001b[37m/usr/bin/iruby:5:in `<main>'\u001b[0m"
     ]
    }
   ],
   "source": [
    "require 'sciruby'"
   ]
  },
  {
   "cell_type": "code",
   "execution_count": 6,
   "metadata": {
    "collapsed": false
   },
   "outputs": [
    {
     "ename": "NameError",
     "evalue": "uninitialized constant Vector",
     "output_type": "error",
     "traceback": [
      "\u001b[31mNameError\u001b[0m: uninitialized constant Vector",
      "\u001b[37m(pry):6:in `<main>'\u001b[0m",
      "\u001b[37m/home/graeme/.gem/ruby/2.3.1/gems/pry-0.10.4/lib/pry/pry_instance.rb:355:in `eval'\u001b[0m",
      "\u001b[37m/home/graeme/.gem/ruby/2.3.1/gems/pry-0.10.4/lib/pry/pry_instance.rb:355:in `evaluate_ruby'\u001b[0m",
      "\u001b[37m/home/graeme/.gem/ruby/2.3.1/gems/pry-0.10.4/lib/pry/pry_instance.rb:323:in `handle_line'\u001b[0m",
      "\u001b[37m/home/graeme/.gem/ruby/2.3.1/gems/pry-0.10.4/lib/pry/pry_instance.rb:243:in `block (2 levels) in eval'\u001b[0m",
      "\u001b[37m/home/graeme/.gem/ruby/2.3.1/gems/pry-0.10.4/lib/pry/pry_instance.rb:242:in `catch'\u001b[0m",
      "\u001b[37m/home/graeme/.gem/ruby/2.3.1/gems/pry-0.10.4/lib/pry/pry_instance.rb:242:in `block in eval'\u001b[0m",
      "\u001b[37m/home/graeme/.gem/ruby/2.3.1/gems/pry-0.10.4/lib/pry/pry_instance.rb:241:in `catch'\u001b[0m",
      "\u001b[37m/home/graeme/.gem/ruby/2.3.1/gems/pry-0.10.4/lib/pry/pry_instance.rb:241:in `eval'\u001b[0m",
      "\u001b[37m/usr/lib/ruby/vendor_ruby/iruby/backend.rb:65:in `eval'\u001b[0m",
      "\u001b[37m/usr/lib/ruby/vendor_ruby/iruby/backend.rb:12:in `eval'\u001b[0m",
      "\u001b[37m/usr/lib/ruby/vendor_ruby/iruby/kernel.rb:87:in `execute_request'\u001b[0m",
      "\u001b[37m/usr/lib/ruby/vendor_ruby/iruby/kernel.rb:47:in `dispatch'\u001b[0m",
      "\u001b[37m/usr/lib/ruby/vendor_ruby/iruby/kernel.rb:37:in `run'\u001b[0m",
      "\u001b[37m/usr/lib/ruby/vendor_ruby/iruby/command.rb:70:in `run_kernel'\u001b[0m",
      "\u001b[37m/usr/lib/ruby/vendor_ruby/iruby/command.rb:34:in `run'\u001b[0m",
      "\u001b[37m/usr/bin/iruby:5:in `<main>'\u001b[0m"
     ]
    }
   ],
   "source": [
    "Vector"
   ]
  },
  {
   "cell_type": "code",
   "execution_count": null,
   "metadata": {
    "collapsed": false
   },
   "outputs": [],
   "source": [
    "v = Vector[1,2,3]"
   ]
  },
  {
   "cell_type": "code",
   "execution_count": null,
   "metadata": {
    "collapsed": false
   },
   "outputs": [],
   "source": [
    "2 * v"
   ]
  },
  {
   "cell_type": "code",
   "execution_count": null,
   "metadata": {
    "collapsed": true
   },
   "outputs": [],
   "source": []
  }
 ],
 "metadata": {
  "kernelspec": {
   "display_name": "Ruby",
   "language": "ruby",
   "name": "iruby"
  },
  "language_info": {
   "file_extension": ".rb",
   "mimetype": "application/x-ruby",
   "name": "ruby",
   "version": "2.3.1"
  }
 },
 "nbformat": 4,
 "nbformat_minor": 2
}
