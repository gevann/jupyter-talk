{
 "cells": [
  {
   "cell_type": "markdown",
   "metadata": {},
   "source": [
    "# Jupyter Notebook\n",
    "---\n",
    "\n",
    ">\"an open-source web application that allows you to create and share documents that contain **live code**, equations, visualizations and **explanatory text**\"\n",
    "\n",
    "This talk is (_ostensibly_) about lexical scope in Ruby; secretly, it has the ulterior motive of illustrating how Jupyter Notebook can be used to create a presentation.\n",
    "\n",
    "Let's get into it!"
   ]
  },
  {
   "cell_type": "markdown",
   "metadata": {},
   "source": [
    "## Lexical Scope\n",
    "---\n",
    "\n",
    ">\"Lexical scope?\"\n",
    "> > -- some guy\n",
    "\n",
    "_Lexical scope_ is all about name resolution in programs, essentially answering \"when do I bother checking on what `foo` actually is?\"\n",
    "\n",
    "It's closely related to _closures_, so we will look at both, but first, lets take  more specific look at what lexical scope means:\n"
   ]
  },
  {
   "cell_type": "markdown",
   "metadata": {},
   "source": [
    "**Lexical**\n",
    "/ˈleksək(ə)l/\n",
    "\n",
    "_adjective_\n",
    "\n",
    "1. Relating to the words or vocabulary of a language.    \n",
    "    1.1 Relating to or of the nature of lexicon or dictionary."
   ]
  },
  {
   "cell_type": "markdown",
   "metadata": {},
   "source": [
    "**Scope**\n",
    "/skōp/\n",
    "\n",
    "_noun_\n",
    "\n",
    "1. The extent of the area or subject matter that something deals with or to which it is relevant."
   ]
  },
  {
   "cell_type": "markdown",
   "metadata": {},
   "source": [
    "Putting that together, lexical scope is a scope of resolving names to where they were written (_becuase it's lexical!_).\n",
    "\n",
    ">\"Hmm OK. But...wut?\"\n",
    "\n",
    "Example!"
   ]
  },
  {
   "cell_type": "code",
   "execution_count": 1,
   "metadata": {
    "collapsed": false
   },
   "outputs": [
    {
     "data": {
      "text/plain": [
       "[4, 6]"
      ]
     },
     "execution_count": 1,
     "metadata": {},
     "output_type": "execute_result"
    }
   ],
   "source": [
    "i = 7\n",
    "[4, 6, 8].select { |x| i > x }"
   ]
  },
  {
   "cell_type": "markdown",
   "metadata": {},
   "source": [
    "So, above we see lexical scope in action. When `select` executes, it finds the variable `i`, which it needs to resolve, and it looks it up in the environment where the select was defined -- so `i` will be `7`. Coolio.\n",
    "\n",
    "Seems obvious, but there are languages which do not do this (they use _dynamic scope_), and without it you cannot use _closure_, which are super cool!\n",
    "\n",
    "\n",
    "# Closures\n",
    "---\n",
    "\n",
    "A closure is a 2-tuple (a pair) of `[vars, body]` where body is the `body` of the code to execute, and `vars` is the set of definitions of all of the **free variables** in that body _at the time the body was defined_. To give a contrast, what it specifically **is not** is a set of `vars` where the definitions are resolved to values _where the body is run_. \n",
    "\n",
    "But, what's a _free variable_?\n",
    "\n",
    "### Free Variable\n",
    "\n",
    ">In computer programming, the term free variable refers to variables used in a function that are neither local variables nor parameters of that function.\n",
    "\n",
    "So, in the function below only `u` is a free variable, since all others are either parameters (`a`, `b`, and `c`) or local (`d`)."
   ]
  },
  {
   "cell_type": "code",
   "execution_count": 2,
   "metadata": {
    "collapsed": false
   },
   "outputs": [
    {
     "data": {
      "text/plain": [
       ":free_variables"
      ]
     },
     "execution_count": 2,
     "metadata": {},
     "output_type": "execute_result"
    }
   ],
   "source": [
    "u = 4\n",
    "def free_variables(a, b, c)\n",
    "  d = a % b\n",
    "  d**a + (b - u)/c\n",
    "end"
   ]
  },
  {
   "cell_type": "code",
   "execution_count": 3,
   "metadata": {
    "collapsed": false
   },
   "outputs": [
    {
     "ename": "NameError",
     "evalue": "undefined local variable or method `u' for main:Object",
     "output_type": "error",
     "traceback": [
      "\u001b[31mNameError\u001b[0m: undefined local variable or method `u' for main:Object",
      "\u001b[37m<main>:3:in `free_variables'\u001b[0m",
      "\u001b[37m<main>:in `<main>'\u001b[0m",
      "\u001b[37m/usr/lib/ruby/vendor_ruby/iruby/backend.rb:44:in `eval'\u001b[0m",
      "\u001b[37m/usr/lib/ruby/vendor_ruby/iruby/backend.rb:44:in `eval'\u001b[0m",
      "\u001b[37m/usr/lib/ruby/vendor_ruby/iruby/backend.rb:12:in `eval'\u001b[0m",
      "\u001b[37m/usr/lib/ruby/vendor_ruby/iruby/kernel.rb:87:in `execute_request'\u001b[0m",
      "\u001b[37m/usr/lib/ruby/vendor_ruby/iruby/kernel.rb:47:in `dispatch'\u001b[0m",
      "\u001b[37m/usr/lib/ruby/vendor_ruby/iruby/kernel.rb:37:in `run'\u001b[0m",
      "\u001b[37m/usr/lib/ruby/vendor_ruby/iruby/command.rb:70:in `run_kernel'\u001b[0m",
      "\u001b[37m/usr/lib/ruby/vendor_ruby/iruby/command.rb:34:in `run'\u001b[0m",
      "\u001b[37m/usr/bin/iruby:5:in `<main>'\u001b[0m"
     ]
    }
   ],
   "source": [
    "free_variables(1, 2, 3)\n",
    "#doesn't work because `def` doesn't provide a closure, so ruby has no idea what to resolve\n",
    "# the free variables to."
   ]
  },
  {
   "cell_type": "markdown",
   "metadata": {},
   "source": [
    "Let's look at an example of where we aren't using a closure.<a id='another_cell'></a>"
   ]
  },
  {
   "cell_type": "code",
   "execution_count": 4,
   "metadata": {
    "collapsed": false
   },
   "outputs": [
    {
     "name": "stdout",
     "output_type": "stream",
     "text": [
      "Hello\n",
      "Test\n"
     ]
    }
   ],
   "source": [
    "a = \"Hello\"\n",
    "my_proc = Proc.new { puts a }\n",
    "my_proc.call\n",
    "a = \"Test\"\n",
    "my_proc.call"
   ]
  },
  {
   "cell_type": "markdown",
   "metadata": {},
   "source": [
    "**QUESTION**: why does the result of the second call to `my_proc` output \"Test\"?\n",
    "\n",
    "What's happening here is that the variable `a` is being resolved during execution, which means if we change it's value before running the proc we end up with the side-effect of changing the output of the proc, and nobody likes the confusion of a function returning something different with the same inputs (here none at all). It's difficult to reason about.\n",
    "\n",
    "Closures to the rescue! If we make use of lexical-scoping and ensure that the free variables are set to the values they had when the body was defined, then we don't end up with these same problems."
   ]
  },
  {
   "cell_type": "code",
   "execution_count": 5,
   "metadata": {
    "collapsed": false
   },
   "outputs": [
    {
     "name": "stdout",
     "output_type": "stream",
     "text": [
      "Hello\n",
      "Hello\n"
     ]
    }
   ],
   "source": [
    "def gen\n",
    "  a = \"Hello\"\n",
    "  proc { puts a}\n",
    "end\n",
    "my_closed_proc = gen()\n",
    "my_closed_proc.call()\n",
    "a = \"Test\"\n",
    "my_closed_proc.call()"
   ]
  },
  {
   "cell_type": "markdown",
   "metadata": {},
   "source": [
    "Here we have a function `gen`, which returns a closure (a `proc` with bounded free vars). It doesn't matter what anybody else does to `a` anymore.\n",
    "\n",
    "We see that the calls to\n",
    "`my_closed_proc.call` both returned `'Hello'`, despite changing the value of `a` and specifically _unlike_ what happend in [`In [4]`](#another_cell). Let's look an an example of what you could do with this. \n",
    "\n",
    "Consider the class below, which can be used be build a cyclical, directed graph."
   ]
  },
  {
   "cell_type": "code",
   "execution_count": 32,
   "metadata": {
    "collapsed": false
   },
   "outputs": [
    {
     "data": {
      "text/plain": [
       ":next_node="
      ]
     },
     "execution_count": 32,
     "metadata": {},
     "output_type": "execute_result"
    }
   ],
   "source": [
    "class GraphNode\n",
    "  attr_reader :next_node\n",
    "  attr_reader :value\n",
    "  \n",
    "  def initialize(value)\n",
    "    @value = value\n",
    "    @next_node = nil\n",
    "  end\n",
    "  \n",
    "  def inspect\n",
    "    \"<GraphNode, @value: #{@value}, @next_node: #{@next_node.value}>\"\n",
    "  end\n",
    "  \n",
    "  def to_s\n",
    "    \"<Node (#{@value}, #{@next_node.value})>\"\n",
    "  end\n",
    "  \n",
    "  def next_node=(node)\n",
    "    raise ArgumentError unless node.is_a? GraphNode\n",
    "    @next_node = node\n",
    "  end\n",
    "end"
   ]
  },
  {
   "cell_type": "markdown",
   "metadata": {},
   "source": [
    "Now we can use it to create a simple graph:"
   ]
  },
  {
   "cell_type": "code",
   "execution_count": 29,
   "metadata": {
    "collapsed": false
   },
   "outputs": [
    {
     "name": "stdout",
     "output_type": "stream",
     "text": [
      "<Node (0, 1)>\n",
      "<Node (1, 2)>\n",
      "<Node (2, 3)>\n",
      "<Node (3, 0)>\n"
     ]
    },
    {
     "data": {
      "text/plain": [
       "[<GraphNode, @value: 0, @next_node: 1>, <GraphNode, @value: 1, @next_node: 2>, <GraphNode, @value: 2, @next_node: 3>, <GraphNode, @value: 3, @next_node: 0>]"
      ]
     },
     "execution_count": 29,
     "metadata": {},
     "output_type": "execute_result"
    }
   ],
   "source": [
    "nodes = (0...4).map{ |x| GraphNode.new(x)}\n",
    "nodes.each_with_index { |node, index|  node.next_node = nodes[(index+1)%4] }\n",
    "n0, n1, n2, n3  = nodes\n",
    "nodes.each do |node|\n",
    "  puts node\n",
    "end"
   ]
  },
  {
   "cell_type": "code",
   "execution_count": 10,
   "metadata": {
    "collapsed": false
   },
   "outputs": [
    {
     "data": {
      "image/png": "[encoded data removed]",
      "text/plain": [
       "#<File:graph.png>"
      ]
     },
     "execution_count": 10,
     "metadata": {},
     "output_type": "execute_result"
    }
   ],
   "source": [
    "File.open('graph.png')"
   ]
  },
  {
   "cell_type": "markdown",
   "metadata": {},
   "source": [
    "Great, so now we have our class, our directed graph (above), and a cycle in the graph (if you follow each of the pointers from _node 0_ you eventually arrive back where you started).\n",
    "\n",
    "What we want now is to add to your class a way to start at _node 0_ and end up at _node 3_, without looping. This should work regardless of how deep the graph goes, and does not need to work for a graph where there are multiple paths heading out of one node (since our class only has one pointer).\n",
    "\n",
    "```ruby\n",
    "module Seek\n",
    "    def seek\n",
    "        # how would you do it?\n",
    "    end\n",
    "end\n",
    "```"
   ]
  },
  {
   "cell_type": "code",
   "execution_count": null,
   "metadata": {
    "collapsed": true
   },
   "outputs": [],
   "source": []
  },
  {
   "cell_type": "code",
   "execution_count": null,
   "metadata": {
    "collapsed": true
   },
   "outputs": [],
   "source": []
  },
  {
   "cell_type": "code",
   "execution_count": null,
   "metadata": {
    "collapsed": true
   },
   "outputs": [],
   "source": []
  },
  {
   "cell_type": "code",
   "execution_count": 30,
   "metadata": {
    "collapsed": true
   },
   "outputs": [
    {
     "data": {
      "text/plain": [
       ":traverse"
      ]
     },
     "execution_count": 30,
     "metadata": {},
     "output_type": "execute_result"
    }
   ],
   "source": [
    "module Traverse\n",
    "  def traverse\n",
    "    original_id = self.object_id\n",
    "    rec_helper = lambda do |node|\n",
    "      if node.next_node && node.next_node.object_id != original_id\n",
    "        rec_helper.call(node.next_node)\n",
    "      else\n",
    "        node\n",
    "      end\n",
    "    end\n",
    "      rec_helper.call(self)\n",
    "  end\n",
    "end"
   ]
  },
  {
   "cell_type": "code",
   "execution_count": 31,
   "metadata": {
    "collapsed": false
   },
   "outputs": [
    {
     "data": {
      "text/plain": [
       "GraphNode"
      ]
     },
     "execution_count": 31,
     "metadata": {},
     "output_type": "execute_result"
    }
   ],
   "source": [
    "GraphNode.prepend(Traverse)"
   ]
  },
  {
   "cell_type": "code",
   "execution_count": null,
   "metadata": {
    "collapsed": true
   },
   "outputs": [],
   "source": []
  }
 ],
 "metadata": {
  "kernelspec": {
   "display_name": "Ruby",
   "language": "ruby",
   "name": "iruby"
  },
  "language_info": {
   "file_extension": ".rb",
   "mimetype": "application/x-ruby",
   "name": "ruby",
   "version": "2.3.1"
  }
 },
 "nbformat": 4,
 "nbformat_minor": 2
}
