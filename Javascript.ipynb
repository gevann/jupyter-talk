{
 "cells": [
  {
   "cell_type": "code",
   "execution_count": null,
   "metadata": {
    "collapsed": false
   },
   "outputs": [],
   "source": [
    "function state_maker(inStock, sizeSelected) {\n",
    "    return {\n",
    "        inStock: inStock,\n",
    "        sizeSelected: sizeSelected\n",
    "    }\n",
    "}\n",
    "\n",
    "s1 = state_maker(true, true);\n",
    "s2 = state_maker(true, false);\n",
    "s3 = state_maker(false, false);\n",
    "s4 = state_maker(false, true);"
   ]
  },
  {
   "cell_type": "code",
   "execution_count": null,
   "metadata": {
    "collapsed": false
   },
   "outputs": [],
   "source": [
    "function whichCTA(state){\n",
    "    switch (true) {\n",
    "        case !state.inStock:\n",
    "            return \"out of stock\";\n",
    "        case !state.sizeSelected:\n",
    "            return \"select a size\";\n",
    "        default:\n",
    "            return \"add to cart\"\n",
    "    }\n",
    "}"
   ]
  }
 ],
 "metadata": {
  "kernelspec": {
   "display_name": "Javascript (Node.js)",
   "language": "javascript",
   "name": "ijavascript"
  },
  "language_info": {
   "file_extension": ".js",
   "mimetype": "application/javascript",
   "name": "javascript",
   "version": "4.2.6"
  }
 },
 "nbformat": 4,
 "nbformat_minor": 2
}
